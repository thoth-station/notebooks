{
 "cells": [
  {
   "cell_type": "markdown",
   "metadata": {},
   "source": [
    "# Initial data ingestion to JanusGraph"
   ]
  },
  {
   "cell_type": "code",
   "execution_count": 1,
   "metadata": {},
   "outputs": [
    {
     "name": "stdout",
     "output_type": "stream",
     "text": [
      "env: THOTH_DEPLOYMENT_NAME=thoth-test-core\n"
     ]
    }
   ],
   "source": [
    "%env THOTH_DEPLOYMENT_NAME=thoth-test-core\n",
    "\n",
    "from thoth.storages.graph import GraphDatabase\n",
    "from thoth.storages import SolverResultsStore\n",
    "from thoth.storages import AnalysisResultsStore\n",
    "\n",
    "from thoth.lab import obtain_location\n",
    "from thoth.lab import GraphQueryResult as gqr\n",
    "\n",
    "#graph_db = GraphDatabase.create(obtain_location('thoth-sbu-janusgraph-test1', verify=False, only_netloc=True), port=80)\n",
    "graph_db = GraphDatabase.create('localhost', port=8182)\n",
    "solver_results = SolverResultsStore()\n",
    "analysis_results = AnalysisResultsStore()\n",
    "\n",
    "graph_db.connect()\n",
    "solver_results.connect()\n",
    "analysis_results.connect()"
   ]
  },
  {
   "cell_type": "markdown",
   "metadata": {},
   "source": [
    "## Place for experiments:"
   ]
  },
  {
   "cell_type": "code",
   "execution_count": 2,
   "metadata": {},
   "outputs": [],
   "source": [
    "gqr(graph_db.g.V().drop().next())\n",
    "assert gqr(graph_db.g.V().count().next()).result == 0"
   ]
  },
  {
   "cell_type": "markdown",
   "metadata": {},
   "source": [
    "## Syncing image analysis results - with adapter cache"
   ]
  },
  {
   "cell_type": "code",
   "execution_count": 3,
   "metadata": {},
   "outputs": [
    {
     "data": {
      "text/plain": [
       "0"
      ]
     },
     "execution_count": 3,
     "metadata": {},
     "output_type": "execute_result"
    }
   ],
   "source": [
    "gqr(graph_db.g.V().count().next()).result"
   ]
  },
  {
   "cell_type": "code",
   "execution_count": 4,
   "metadata": {
    "scrolled": true
   },
   "outputs": [
    {
     "name": "stdout",
     "output_type": "stream",
     "text": [
      "Syncing fridex-thoth-package-extract-base-notebook-hv8pt\n",
      "Syncing fridex-thoth-package-extract-fedora-27-2shjq\n",
      "Syncing fridex-thoth-package-extract-fedora-27-46c6z\n",
      "Syncing fridex-thoth-package-extract-fedora-27-4bvfd\n",
      "Syncing fridex-thoth-package-extract-fedora-27-4kbwk\n",
      "Syncing fridex-thoth-package-extract-fedora-27-4x9j9\n",
      "Syncing fridex-thoth-package-extract-fedora-27-6wg7n\n",
      "CPU times: user 1min 10s, sys: 3.34 s, total: 1min 13s\n",
      "Wall time: 4min\n"
     ]
    }
   ],
   "source": [
    "%%time\n",
    "import asyncio\n",
    "from itertools import islice\n",
    "\n",
    "async def sync_analysis_results():\n",
    "    for document_name in islice(analysis_results.get_document_listing(), 7):\n",
    "        print(\"Syncing %s\" % document_name)\n",
    "        analysis_document = analysis_results.retrieve_document(document_name)\n",
    "        await graph_db.sync_analysis_result(analysis_document)\n",
    "\n",
    "loop = asyncio.get_event_loop()\n",
    "loop.run_until_complete(sync_analysis_results())"
   ]
  },
  {
   "cell_type": "code",
   "execution_count": 5,
   "metadata": {},
   "outputs": [
    {
     "data": {
      "text/plain": [
       "25831"
      ]
     },
     "execution_count": 5,
     "metadata": {},
     "output_type": "execute_result"
    }
   ],
   "source": [
    "gqr(graph_db.g.E().count().next()).result"
   ]
  },
  {
   "cell_type": "code",
   "execution_count": 6,
   "metadata": {},
   "outputs": [
    {
     "data": {
      "text/plain": [
       "1602"
      ]
     },
     "execution_count": 6,
     "metadata": {},
     "output_type": "execute_result"
    }
   ],
   "source": [
    "gqr(graph_db.g.V().count().next()).result"
   ]
  },
  {
   "cell_type": "markdown",
   "metadata": {},
   "source": [
    "Errors reported above are actually fine - the given artifacts do not carry package name informarmation (these are `requirements.txt`). We will filter them out on source code level since we do not want to sync such data anyway."
   ]
  },
  {
   "cell_type": "code",
   "execution_count": 7,
   "metadata": {},
   "outputs": [
    {
     "name": "stdout",
     "output_type": "stream",
     "text": [
      "Syncing fridex-thoth-solver-fc26-thoth-solver-fc26-222k6\n",
      "Syncing fridex-thoth-solver-fc26-thoth-solver-fc26-22zfg\n",
      "Syncing fridex-thoth-solver-fc26-thoth-solver-fc26-249zq\n",
      "Syncing fridex-thoth-solver-fc26-thoth-solver-fc26-2564s\n",
      "Syncing fridex-thoth-solver-fc26-thoth-solver-fc26-25qhp\n",
      "Syncing fridex-thoth-solver-fc26-thoth-solver-fc26-27vw6\n",
      "Syncing fridex-thoth-solver-fc26-thoth-solver-fc26-2882l\n",
      "CPU times: user 2min, sys: 5.94 s, total: 2min 6s\n",
      "Wall time: 10min 1s\n"
     ]
    }
   ],
   "source": [
    "%%time\n",
    "import asyncio\n",
    "from itertools import islice\n",
    "\n",
    "async def sync_solver_results():\n",
    "    for document_name in islice(solver_results.get_document_listing(), 7):\n",
    "        print(\"Syncing %s\" % document_name)\n",
    "        analysis_document = solver_results.retrieve_document(document_name)\n",
    "        await graph_db.sync_solver_result(analysis_document)\n",
    "        \n",
    "loop = asyncio.get_event_loop()\n",
    "loop.run_until_complete(sync_solver_results())"
   ]
  },
  {
   "cell_type": "code",
   "execution_count": 9,
   "metadata": {},
   "outputs": [
    {
     "name": "stdout",
     "output_type": "stream",
     "text": [
      "Number of vertexes present in graph: 2747\n",
      "Number of edges present in graph: 41497\n"
     ]
    }
   ],
   "source": [
    "print(f\"Number of vertexes present in graph: {gqr(graph_db.g.V().count().next()).result:d}\")\n",
    "print(f\"Number of edges present in graph: {gqr(graph_db.g.E().count().next()).result:d}\")\n",
    "#print(f\"Number of analysis files ingested: {len(list(analysis_results.get_document_listing()))}\")\n",
    "#print(f\"Number of solver resultes ingested: {len(list(solver_results.get_document_listing()))}\")"
   ]
  },
  {
   "cell_type": "markdown",
   "metadata": {},
   "source": [
    "**Note:** JanusGraph was run in verbose mode on localhost with indexes and schema configured."
   ]
  }
 ],
 "metadata": {
  "kernelspec": {
   "display_name": "Python 3",
   "language": "python",
   "name": "python3"
  },
  "language_info": {
   "codemirror_mode": {
    "name": "ipython",
    "version": 3
   },
   "file_extension": ".py",
   "mimetype": "text/x-python",
   "name": "python",
   "nbconvert_exporter": "python",
   "pygments_lexer": "ipython3",
   "version": "3.6.3"
  }
 },
 "nbformat": 4,
 "nbformat_minor": 2
}
